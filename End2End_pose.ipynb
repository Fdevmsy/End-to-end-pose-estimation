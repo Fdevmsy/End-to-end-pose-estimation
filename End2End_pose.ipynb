{
 "cells": [
  {
   "cell_type": "code",
   "execution_count": 29,
   "metadata": {},
   "outputs": [],
   "source": [
    "import ssl\n",
    "\n",
    "ssl._create_default_https_context = ssl._create_unverified_context\n",
    "\n",
    "from keras.applications.resnet50 import ResNet50\n",
    "from keras.preprocessing import image\n",
    "from keras.layers import Input, Dense, Dropout, Conv3D, ReLU\n",
    "from keras.applications.resnet50 import preprocess_input, decode_predictions\n",
    "import numpy as np\n",
    "from keras.models import Sequential, Model"
   ]
  },
  {
   "cell_type": "code",
   "execution_count": 26,
   "metadata": {},
   "outputs": [
    {
     "data": {
      "text/plain": [
       "(1, 2048)"
      ]
     },
     "execution_count": 26,
     "metadata": {},
     "output_type": "execute_result"
    }
   ],
   "source": [
    "resnet = ResNet50(weights='imagenet', pooling='avg', include_top=False)\n",
    "\n",
    "# ResNet for extracting features, which is also the encoder \n",
    "img_path = 'skiing.jpg'\n",
    "img = image.load_img(img_path, target_size=(224, 224))\n",
    "x = image.img_to_array(img)\n",
    "x = np.expand_dims(x, axis=0)\n",
    "x = preprocess_input(x)\n",
    "preds = resnet.predict(x)\n",
    "preds.shape\n",
    "# preds is the feature encoded by ResNet"
   ]
  },
  {
   "cell_type": "code",
   "execution_count": 37,
   "metadata": {},
   "outputs": [],
   "source": [
    "def build_regressor():\n",
    "  # the input here is the feature encoded by ResNet\n",
    "  input_layer = Input(shape=([2048]),name = 'ResNet_feature_input')\n",
    "  dense1 = Dense(1024, activation='relu', name='fully_connceted_1')(input_layer)\n",
    "  dropout1 = Dropout(0.2)(dense1)\n",
    "  dense2 = Dense(1024, activation='relu', name='fully_connected_2')(dropout1)\n",
    "  encoder_end = Dense(85, activation='relu', name='fully_connected_3')(dense2)\n",
    "\n",
    "  model = Model(inputs=[input_layer], outputs=[encoder_end])\n",
    "  model.summary()\n",
    "  return model"
   ]
  },
  {
   "cell_type": "code",
   "execution_count": 8,
   "metadata": {},
   "outputs": [
    {
     "data": {
      "text/plain": [
       "(1, 7, 7, 2048)"
      ]
     },
     "execution_count": 8,
     "metadata": {},
     "output_type": "execute_result"
    }
   ],
   "source": [
    "preds.shape"
   ]
  },
  {
   "cell_type": "code",
   "execution_count": 35,
   "metadata": {},
   "outputs": [],
   "source": [
    "def build_discriminator():\n",
    "\n",
    "  input_layer = Input(shape=([2048]))\n",
    "  dense1 = Dense(10, activation='relu', name='fully_connceted_1_dis')(input_layer)\n",
    "  dense2 = Dense(5, activation='relu', name='fully_connceted_2_dis')(dense1)\n",
    "  validity = Dense(1, activation='sigmoid', name='final_dis')(dense2)\n",
    "  model = Model(inputs=[input_layer], outputs=validity)\n",
    "  model.summary()\n",
    "\n",
    "  return model"
   ]
  },
  {
   "cell_type": "code",
   "execution_count": 38,
   "metadata": {},
   "outputs": [
    {
     "name": "stdout",
     "output_type": "stream",
     "text": [
      "_________________________________________________________________\n",
      "Layer (type)                 Output Shape              Param #   \n",
      "=================================================================\n",
      "image_input (InputLayer)     (None, 2048)              0         \n",
      "_________________________________________________________________\n",
      "fully_connceted_1 (Dense)    (None, 1024)              2098176   \n",
      "_________________________________________________________________\n",
      "dropout_3 (Dropout)          (None, 1024)              0         \n",
      "_________________________________________________________________\n",
      "fully_connected_2 (Dense)    (None, 1024)              1049600   \n",
      "_________________________________________________________________\n",
      "fully_connected_3 (Dense)    (None, 85)                87125     \n",
      "=================================================================\n",
      "Total params: 3,234,901\n",
      "Trainable params: 3,234,901\n",
      "Non-trainable params: 0\n",
      "_________________________________________________________________\n"
     ]
    },
    {
     "data": {
      "text/plain": [
       "<keras.engine.training.Model at 0x15aa8e550>"
      ]
     },
     "execution_count": 38,
     "metadata": {},
     "output_type": "execute_result"
    }
   ],
   "source": [
    "build_regressor()"
   ]
  },
  {
   "cell_type": "code",
   "execution_count": 36,
   "metadata": {},
   "outputs": [
    {
     "name": "stdout",
     "output_type": "stream",
     "text": [
      "_________________________________________________________________\n",
      "Layer (type)                 Output Shape              Param #   \n",
      "=================================================================\n",
      "input_11 (InputLayer)        (None, 2048)              0         \n",
      "_________________________________________________________________\n",
      "fully_connceted_1_dis (Dense (None, 10)                20490     \n",
      "_________________________________________________________________\n",
      "fully_connceted_2_dis (Dense (None, 5)                 55        \n",
      "_________________________________________________________________\n",
      "final_dis (Dense)            (None, 1)                 6         \n",
      "=================================================================\n",
      "Total params: 20,551\n",
      "Trainable params: 20,551\n",
      "Non-trainable params: 0\n",
      "_________________________________________________________________\n"
     ]
    },
    {
     "data": {
      "text/plain": [
       "<keras.engine.training.Model at 0x15a9edc88>"
      ]
     },
     "execution_count": 36,
     "metadata": {},
     "output_type": "execute_result"
    }
   ],
   "source": [
    "build_discriminator()"
   ]
  },
  {
   "cell_type": "code",
   "execution_count": null,
   "metadata": {},
   "outputs": [],
   "source": []
  }
 ],
 "metadata": {
  "kernelspec": {
   "display_name": "Python 3",
   "language": "python",
   "name": "python3"
  },
  "language_info": {
   "codemirror_mode": {
    "name": "ipython",
    "version": 3
   },
   "file_extension": ".py",
   "mimetype": "text/x-python",
   "name": "python",
   "nbconvert_exporter": "python",
   "pygments_lexer": "ipython3",
   "version": "3.6.2"
  }
 },
 "nbformat": 4,
 "nbformat_minor": 2
}
