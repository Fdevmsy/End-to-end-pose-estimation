{
 "cells": [
  {
   "cell_type": "code",
   "execution_count": 36,
   "metadata": {},
   "outputs": [],
   "source": [
    "%matplotlib inline \n",
    "import matplotlib.pyplot as plt\n",
    "import imageio\n",
    "import numpy as np\n",
    "\n",
    "def grayscale(rgb):\n",
    "    return np.dot(rgb[...,:3], [0.299, 0.587, 0.114])\n",
    "def dodge(front,back):\n",
    "    result=front*255/(255-back) \n",
    "    result[result>255]=255\n",
    "    result[back==255]=255\n",
    "    return result.astype('uint8')\n",
    "\n",
    "# path to images \n",
    "img = \"3.jpg\" \n",
    "s = imageio.imread(img)\n",
    "g=grayscale(s)\n",
    "plt.imsave('img_gray3.jpg', g, cmap='gray', vmin=0, vmax=255)\n",
    "i = 255-g\n",
    "import scipy.ndimage\n",
    "b = scipy.ndimage.filters.gaussian_filter(i,sigma=10)\n",
    "plt.imsave('img_blur3.jpg', b, cmap='gray', vmin=0, vmax=255)\n",
    "r= dodge(b,g) \n",
    "plt.imshow(s)\n",
    "plt.imshow(r, cmap=\"gray\")\n",
    "plt.imsave('img_doge3.jpg', r, cmap='gray', vmin=0, vmax=255)\n",
    "print(\"images saved\")"
   ]
  }
 ],
 "metadata": {
  "kernelspec": {
   "display_name": "Python 3",
   "language": "python",
   "name": "python3"
  },
  "language_info": {
   "codemirror_mode": {
    "name": "ipython",
    "version": 3
   },
   "file_extension": ".py",
   "mimetype": "text/x-python",
   "name": "python",
   "nbconvert_exporter": "python",
   "pygments_lexer": "ipython3",
   "version": "3.6.2"
  }
 },
 "nbformat": 4,
 "nbformat_minor": 2
}
